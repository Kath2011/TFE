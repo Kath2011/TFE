{
  "nbformat": 4,
  "nbformat_minor": 0,
  "metadata": {
    "colab": {
      "provenance": [],
      "authorship_tag": "ABX9TyPAYs0gvmIw7X0CeyWM/Jfy",
      "include_colab_link": true
    },
    "kernelspec": {
      "name": "python3",
      "display_name": "Python 3"
    },
    "language_info": {
      "name": "python"
    }
  },
  "cells": [
    {
      "cell_type": "markdown",
      "metadata": {
        "id": "view-in-github",
        "colab_type": "text"
      },
      "source": [
        "<a href=\"https://colab.research.google.com/github/Kath2011/TFE/blob/main/Blacklist.ipynb\" target=\"_parent\"><img src=\"https://colab.research.google.com/assets/colab-badge.svg\" alt=\"Open In Colab\"/></a>"
      ]
    },
    {
      "cell_type": "code",
      "execution_count": 2,
      "metadata": {
        "colab": {
          "base_uri": "https://localhost:8080/"
        },
        "id": "0eGIFoGEuiNf",
        "outputId": "4b6359c2-c6a9-49c9-e3b5-1db4cab38358"
      },
      "outputs": [
        {
          "output_type": "stream",
          "name": "stdout",
          "text": [
            "\n",
            "EVALUACIÓN – Lista negra parcial (70% dominios conocidos):\n",
            "\n",
            "              precision    recall  f1-score   support\n",
            "\n",
            "      benign       0.77      1.00      0.87    160943\n",
            "    phishing       1.00      0.72      0.84    175806\n",
            "\n",
            "    accuracy                           0.85    336749\n",
            "   macro avg       0.88      0.86      0.85    336749\n",
            "weighted avg       0.89      0.85      0.85    336749\n",
            "\n"
          ]
        }
      ],
      "source": [
        "import pandas as pd\n",
        "from sklearn.metrics import classification_report\n",
        "from sklearn.model_selection import train_test_split\n",
        "\n",
        "# Paso 1: Cargar dataset real\n",
        "df = pd.read_csv(\"StealthPhisher2025.csv\")\n",
        "\n",
        "# Paso 2: Limpieza de datos\n",
        "# Aseguramos consistencia en nombres de columnas\n",
        "df.columns = df.columns.str.strip()\n",
        "\n",
        "# Convertimos a minúsculas y eliminamos espacios en Label y Domain\n",
        "df['Domain'] = df['Domain'].astype(str).str.strip().str.lower()\n",
        "df['Label'] = df['Label'].astype(str).str.strip().str.lower()\n",
        "\n",
        "# Eliminamos filas con valores nulos\n",
        "df = df.dropna(subset=[\"Domain\", \"Label\"])\n",
        "\n",
        "# Paso 3: Etiquetas reales (phishing = True, benign = False)\n",
        "y_true = df['Label'] == 'phishing'\n",
        "\n",
        "#Paso 4: Crear lista negra parcial (70% de dominios phishing)\n",
        "phishing_domains = df[df['Label'] == 'phishing']['Domain'].unique()\n",
        "blacklist_partial, _ = train_test_split(phishing_domains, train_size=0.7, random_state=42)\n",
        "blacklist_partial = set(blacklist_partial)\n",
        "\n",
        "#Paso 5: Detección con lista negra parcial\n",
        "df['detected_blacklist_partial'] = df['Domain'].isin(blacklist_partial)\n",
        "y_pred_partial = df['detected_blacklist_partial']\n",
        "\n",
        "#Paso 6: Evaluación\n",
        "print(\"\\nEVALUACIÓN – Lista negra parcial (70% dominios conocidos):\\n\")\n",
        "print(classification_report(y_true, y_pred_partial, target_names=['benign', 'phishing']))\n",
        "\n",
        "\n",
        "\n",
        "\n",
        "\n",
        "\n",
        "\n"
      ]
    }
  ]
}